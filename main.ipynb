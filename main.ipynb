{
 "cells": [
  {
   "cell_type": "code",
   "execution_count": 4,
   "metadata": {},
   "outputs": [
    {
     "name": "stdout",
     "output_type": "stream",
     "text": [
      " "
     ]
    },
    {
     "data": {
      "text/plain": [
       "         3 function calls in 0.000 seconds\n",
       "\n",
       "   Ordered by: internal time\n",
       "\n",
       "   ncalls  tottime  percall  cumtime  percall filename:lineno(function)\n",
       "        1    0.000    0.000    0.000    0.000 {built-in method builtins.exec}\n",
       "        1    0.000    0.000    0.000    0.000 <string>:1(<module>)\n",
       "        1    0.000    0.000    0.000    0.000 {method 'disable' of '_lsprof.Profiler' objects}"
      ]
     },
     "metadata": {},
     "output_type": "display_data"
    }
   ],
   "source": [
    "%load_ext line_profiler\n",
    "%prun\n",
    "\n",
    "from rsc.diffpyfit import DiffpyFit\n",
    "from rsc.util import read_config\n",
    "from glob import glob\n",
    "\n",
    "\n",
    "DAT_DIR = './dat/'\n",
    "OUT_DIR = './res/'\n",
    "CONF_PATH = './FitConfig.json'\n",
    "\n",
    "if __name__ == '__main__':\n",
    "    conf = read_config(CONF_PATH)\n",
    "    Fit = DiffpyFit(conf, ['NiO'], ['sheetCF'])\n",
    "    for data_file in glob(f'{DAT_DIR}/*.gr'):\n",
    "        Fit.run_simple_fit(data_file, OUT_DIR)\n"
   ]
  }
 ],
 "metadata": {
  "interpreter": {
   "hash": "b3d6a2353dd0852aede38a33d6e44f52c5dc399ab1f2141f14abead12d25276e"
  },
  "kernelspec": {
   "display_name": "Python 3 (ipykernel)",
   "language": "python",
   "name": "python3"
  },
  "language_info": {
   "codemirror_mode": {
    "name": "ipython",
    "version": 3
   },
   "file_extension": ".py",
   "mimetype": "text/x-python",
   "name": "python",
   "nbconvert_exporter": "python",
   "pygments_lexer": "ipython3",
   "version": "3.7.11"
  }
 },
 "nbformat": 4,
 "nbformat_minor": 4
}
