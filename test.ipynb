{
 "cells": [
  {
   "cell_type": "code",
   "execution_count": 1,
   "metadata": {},
   "outputs": [
    {
     "data": {
      "text/plain": [
       "['Ni', 'NiO']"
      ]
     },
     "execution_count": 1,
     "metadata": {},
     "output_type": "execute_result"
    }
   ],
   "source": [
    "from rsc.recipe import CreateRecipe\n",
    "from rsc.util import read_config\n",
    "\n",
    "\n",
    "DAT_DIR = './dat/'\n",
    "OUT_DIR = './res/'\n",
    "CONF_PATH = './FitConfig.json'\n",
    " \n",
    "\n",
    "dat = '/home/cipmin/7_MISC/BatchFitDiffPy/dat/fooazint_UC1_Al2O3_2_0002_scan0002_pilatus-01.gr'\n",
    "\n",
    "conf = read_config(CONF_PATH)\n",
    "\n",
    "Fit = CreateRecipe(conf, ['Ni', 'NiO'], ['sphericalCF', 'sphericalCF'])\n",
    "\n",
    "Fit.update_recipe()\n",
    "Fit.phases\n",
    "\n",
    "\n"
   ]
  },
  {
   "cell_type": "code",
   "execution_count": 1,
   "metadata": {},
   "outputs": [
    {
     "name": "stdout",
     "output_type": "stream",
     "text": [
      "Ni scale: 0.016335451001629267\n",
      "Parameters\n",
      "------------------------------------------------------------------------------\n",
      "NiO_psize       10.0\n",
      "NiO_scale       0.0\n",
      "NiO_delta2      0.0\n",
      "NiO_a           4.21661958\n",
      "NiO_Ni0_Biso    0.02\n",
      "NiO_O1_Biso     0.02\n",
      "\n",
      "PDF.r           None\n",
      "PDF.NiO_psize   10.0\n",
      "PDF.G           None\n",
      "PDF.dG          None\n",
      "\n",
      "PDF.NiO.delta1  0.0\n",
      "PDF.NiO.delta2  0.0\n",
      "PDF.NiO.qbroad  0.0\n",
      "PDF.NiO.scale   0.0\n",
      "PDF.NiO.qdamp   0.0\n",
      "\n",
      "PDF.NiO.phase.a         4.21661958\n",
      "PDF.NiO.phase.b         4.21661958\n",
      "PDF.NiO.phase.c         4.21661958\n",
      "PDF.NiO.phase.alpha     1.5707963267948966\n",
      "PDF.NiO.phase.beta      1.5707963267948966\n",
      "PDF.NiO.phase.gamma     1.5707963267948966\n",
      "\n",
      "PDF.NiO.phase.Ni0.x     0.0\n",
      "PDF.NiO.phase.Ni0.y     0.0\n",
      "PDF.NiO.phase.Ni0.z     0.0\n",
      "PDF.NiO.phase.Ni0.occ   1.0\n",
      "PDF.NiO.phase.Ni0.Biso  0.02\n",
      "PDF.NiO.phase.Ni0.B11   0.0\n",
      "PDF.NiO.phase.Ni0.B22   0.0\n",
      "PDF.NiO.phase.Ni0.B33   0.0\n",
      "PDF.NiO.phase.Ni0.B12   0.0\n",
      "PDF.NiO.phase.Ni0.B21   0.0\n",
      "PDF.NiO.phase.Ni0.B13   0.0\n",
      "PDF.NiO.phase.Ni0.B31   0.0\n",
      "PDF.NiO.phase.Ni0.B23   0.0\n",
      "PDF.NiO.phase.Ni0.B32   0.0\n",
      "\n",
      "PDF.NiO.phase.O1.x      0.0\n",
      "PDF.NiO.phase.O1.y      0.0\n",
      "PDF.NiO.phase.O1.z      0.5\n",
      "PDF.NiO.phase.O1.occ    1.0\n",
      "PDF.NiO.phase.O1.Biso   0.02\n",
      "PDF.NiO.phase.O1.B11    0.0\n",
      "PDF.NiO.phase.O1.B22    0.0\n",
      "PDF.NiO.phase.O1.B33    0.0\n",
      "PDF.NiO.phase.O1.B12    0.0\n",
      "PDF.NiO.phase.O1.B21    0.0\n",
      "PDF.NiO.phase.O1.B13    0.0\n",
      "PDF.NiO.phase.O1.B31    0.0\n",
      "PDF.NiO.phase.O1.B23    0.0\n",
      "PDF.NiO.phase.O1.B32    0.0\n",
      "\n",
      "Constraints\n",
      "------------------------------------------------------------------------------\n",
      "PDF.NiO.phase.b <-- a\n",
      "PDF.NiO.phase.c <-- a\n",
      "NiO * NiOsphericalCF ['NiO'] [['free', 'lat', 'scale'], ['free', 'NiO_psize'], ['free', 'adp', 'delta2']] {'NiOsphericalCF': (<function sphericalCF at 0x7f7074524680>, ['r', 'NiO_psize'])}\n",
      "0:00:41.154481\n"
     ]
    }
   ],
   "source": [
    "from multiprocessing import Process, Queue\n",
    "\n",
    "from rsc.diffpyfit import DiffpyFit\n",
    "from rsc.util import read_config\n",
    "import numpy as np\n",
    "from glob import glob\n",
    "\n",
    "from datetime import datetime\n",
    "startTime = datetime.now()\n",
    "\n",
    "DAT_DIR = './dat/'\n",
    "OUT_DIR = './res/'\n",
    "CONF_PATH = './FitConfig.json'\n",
    "dat = '/home/cipmin/7_MISC/BatchFitDiffPy/dat/fooazint_UC1_Al2O3_2_0002_scan0002_pilatus-01.gr'\n",
    "\n",
    "def multi_run():\n",
    "    Fit.run_molarcontribution_fit(dat, OUT_DIR, molar_limit=0.5)\n",
    "\n",
    "conf = read_config(CONF_PATH)\n",
    "Fit = DiffpyFit(conf, ['Ni', 'NiO'], ['sphericalCF', 'sphericalCF'])\n",
    "\n",
    "multi_run()\n",
    "print(datetime.now() - startTime)\n"
   ]
  }
 ],
 "metadata": {
  "kernelspec": {
   "display_name": "Python 3.7.11 ('diffpy')",
   "language": "python",
   "name": "python3"
  },
  "language_info": {
   "codemirror_mode": {
    "name": "ipython",
    "version": 3
   },
   "file_extension": ".py",
   "mimetype": "text/x-python",
   "name": "python",
   "nbconvert_exporter": "python",
   "pygments_lexer": "ipython3",
   "version": "3.7.11"
  },
  "orig_nbformat": 4,
  "vscode": {
   "interpreter": {
    "hash": "b3d6a2353dd0852aede38a33d6e44f52c5dc399ab1f2141f14abead12d25276e"
   }
  }
 },
 "nbformat": 4,
 "nbformat_minor": 2
}
